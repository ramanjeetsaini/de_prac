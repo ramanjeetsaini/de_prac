- imputing missing values with interative imputer
    - identify and replace missing values before model prediction
    - this is called data imputattion
    - use mode in classification and mean/median in regression
    - Use InterativeImputer
        - estimates missing values by taking them as a fucntion of existing featueres
        - improved with each iteration 
        - import enable_interative_imputer (experimental phase)
        >>> # explicitly require this experimental feature
>>> from sklearn.experimental import enable_iterative_imputer  
>>> # now you can import normally from sklearn.impute
>>> from sklearn.impute import IterativeImputer